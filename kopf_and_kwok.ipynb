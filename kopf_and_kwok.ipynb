{
 "cells": [
  {
   "cell_type": "markdown",
   "id": "84e894b4",
   "metadata": {
    "slideshow": {
     "slide_type": "slide"
    }
   },
   "source": [
    "# Who am I?\n",
    "## Cesare Placanica"
   ]
  },
  {
   "cell_type": "markdown",
   "id": "25886278",
   "metadata": {
    "slideshow": {
     "slide_type": "fragment"
    }
   },
   "source": [
    "## That was easy... :-)"
   ]
  },
  {
   "cell_type": "markdown",
   "id": "dc8f4cf6",
   "metadata": {
    "slideshow": {
     "slide_type": "subslide"
    }
   },
   "source": [
    "* Telco engineer @ Red Hat\n",
    "  * Formerly in Cisco Photonics for many years\n",
    "* Always worked in Telecommunication industry\n",
    "  * Which is good since I dig big labs a lot!\n",
    "* Linux and Python addicted since ever.\n",
    "* Eventually, I'm trying to be an event organizer for PyMI\n",
    "  * Pythonistas interviewer!"
   ]
  },
  {
   "cell_type": "markdown",
   "id": "052372d9",
   "metadata": {
    "slideshow": {
     "slide_type": "slide"
    }
   },
   "source": [
    "# Thanks Python Milano for having me!"
   ]
  },
  {
   "cell_type": "markdown",
   "id": "92491dd3",
   "metadata": {
    "slideshow": {
     "slide_type": "slide"
    }
   },
   "source": [
    "# Agenda"
   ]
  },
  {
   "cell_type": "markdown",
   "id": "f2f203c8",
   "metadata": {
    "slideshow": {
     "slide_type": "slide"
    }
   },
   "source": [
    "* Kubernetes Introduction (at fast pace)\n",
    "* What's a Kubernetes Operator\n",
    "* Cool tools for Operator development: Kopf and Kwok"
   ]
  },
  {
   "cell_type": "markdown",
   "id": "9d342740",
   "metadata": {
    "slideshow": {
     "slide_type": "slide"
    }
   },
   "source": [
    "# TODO\n",
    "Add references, books, my videos to really learn kubernetes."
   ]
  },
  {
   "cell_type": "markdown",
   "id": "41c2643f",
   "metadata": {
    "slideshow": {
     "slide_type": "slide"
    }
   },
   "source": [
    "## Streching the Pareto Principle\n",
    "I can convey the 80% of the content with 20% of time."
   ]
  },
  {
   "cell_type": "markdown",
   "id": "80a9b6cf",
   "metadata": {
    "slideshow": {
     "slide_type": "fragment"
    }
   },
   "source": [
    "OK..."
   ]
  },
  {
   "cell_type": "markdown",
   "id": "aaac73df",
   "metadata": {
    "slideshow": {
     "slide_type": "slide"
    }
   },
   "source": [
    "# What Kubernetes is?"
   ]
  },
  {
   "cell_type": "markdown",
   "id": "7a71d0d4",
   "metadata": {
    "slideshow": {
     "slide_type": "slide"
    }
   },
   "source": [
    "Kubernetes is a [Loop](https://fabiensanglard.net/quakeSource/)!"
   ]
  },
  {
   "cell_type": "markdown",
   "id": "5d0d0dce",
   "metadata": {
    "slideshow": {
     "slide_type": "fragment"
    }
   },
   "source": [
    "# Are you nuts?"
   ]
  },
  {
   "cell_type": "markdown",
   "id": "4c4ed1c2",
   "metadata": {
    "slideshow": {
     "slide_type": "fragment"
    }
   },
   "source": [
    "## Let me write it, in Python of course"
   ]
  },
  {
   "cell_type": "markdown",
   "id": "66ea9ad0",
   "metadata": {
    "slideshow": {
     "slide_type": "slide"
    }
   },
   "source": [
    "```python\n",
    "while True:\n",
    "    current_state = get_current_state()\n",
    "    desidered_state = get_desidered_state()\n",
    "    reconcile(current_state, desidered_state)\n",
    "```"
   ]
  },
  {
   "cell_type": "markdown",
   "id": "2b39e3f5",
   "metadata": {
    "slideshow": {
     "slide_type": "slide"
    }
   },
   "source": [
    "OK, this is a super high level description to the thing but can help to set the context about what Kubernetes is"
   ]
  },
  {
   "cell_type": "markdown",
   "id": "da7366a0",
   "metadata": {
    "slideshow": {
     "slide_type": "fragment"
    }
   },
   "source": [
    "Somebody calls the simple loop above a reconciliation loop, a sort of pattern."
   ]
  },
  {
   "cell_type": "markdown",
   "id": "0811adb6",
   "metadata": {
    "slideshow": {
     "slide_type": "fragment"
    }
   },
   "source": [
    "This enables you to be \"declarative\", just state what you need from the system, not *how* reach a \"desidered\" condition."
   ]
  },
  {
   "cell_type": "markdown",
   "id": "78228f07",
   "metadata": {
    "slideshow": {
     "slide_type": "fragment"
    }
   },
   "source": [
    "And enable Kubernetes to be \"Intent based\": match the resources with users \"desire\"."
   ]
  },
  {
   "cell_type": "markdown",
   "id": "7c65b89e",
   "metadata": {
    "slideshow": {
     "slide_type": "slide"
    }
   },
   "source": [
    "# TODO\n",
    "Diffence with docker, pet/cattle, lifecycle use cases failover pods, scaling (deployments / replicaset), expose a service (load-balancer, service), upgrades (RollingUpdates) and another gazzilion of things."
   ]
  },
  {
   "cell_type": "markdown",
   "id": "e175b2f6",
   "metadata": {
    "slideshow": {
     "slide_type": "slide"
    }
   },
   "source": [
    "* Kubernetes came out many lessons learned by people who actually built a lot of distributed system.\n",
    "* It's made to build computer clusters and have a standard way to deal with them.\n",
    "* Has the \"single source of truth for the cluster\", the etcd database, you can recovery from crashes by doing backups.\n",
    "* Is API centric.\n",
    "* **It's declarative!**\n",
    "* It's extendable using the [Custom Resource Definition](https://kubernetes.io/docs/concepts/extend-kubernetes/api-extension/custom-resources/)\n",
    "* Even the loop is extendable, using the [Operator Pattern](https://kubernetes.io/docs/concepts/extend-kubernetes/operator/), you can add custom maintenance automation scripts for your application."
   ]
  }
 ],
 "metadata": {
  "celltoolbar": "Slideshow",
  "kernelspec": {
   "display_name": "Python 3 (ipykernel)",
   "language": "python",
   "name": "python3"
  },
  "language_info": {
   "codemirror_mode": {
    "name": "ipython",
    "version": 3
   },
   "file_extension": ".py",
   "mimetype": "text/x-python",
   "name": "python",
   "nbconvert_exporter": "python",
   "pygments_lexer": "ipython3",
   "version": "3.8.12"
  },
  "rise": {
   "theme": "sky"
  }
 },
 "nbformat": 4,
 "nbformat_minor": 5
}
